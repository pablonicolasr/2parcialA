{
 "cells": [
  {
   "cell_type": "markdown",
   "id": "dba6984d",
   "metadata": {},
   "source": [
    "# Segundo Parcial de Base de Datos B\n",
    "\n",
    "BASE DE DATOS – 2024\n",
    "\n",
    "Utilizar la base de datos de SakilaDB"
   ]
  },
  {
   "cell_type": "markdown",
   "id": "679c60ae",
   "metadata": {},
   "source": [
    "Librerías"
   ]
  },
  {
   "cell_type": "code",
   "execution_count": null,
   "id": "fc58c1d5",
   "metadata": {},
   "outputs": [],
   "source": [
    "import sqlite3\n",
    "\n",
    "conn = sqlite3.connect('sakila.sqlite')\n",
    "\n",
    "cursor = conn.cursor()"
   ]
  },
  {
   "cell_type": "markdown",
   "id": "784f4839",
   "metadata": {},
   "source": [
    "1) Encontrar los clientes que han realizado mas de 44 alquileres y con un customer_id menor que 256"
   ]
  },
  {
   "cell_type": "code",
   "execution_count": null,
   "id": "8b1e1df8",
   "metadata": {},
   "outputs": [],
   "source": [
    "# Dentro de la variable query, escriba el código SQL correspondiente\n",
    "\n",
    "query = \"\"\"\n",
    "SELECT\n",
    "\"\"\""
   ]
  },
  {
   "cell_type": "code",
   "execution_count": null,
   "id": "18577add",
   "metadata": {},
   "outputs": [],
   "source": [
    "# Ejecutar la consulta\n",
    "cursor.execute(query)\n",
    "\n",
    "# Obtener y mostrar los resultados\n",
    "results = cursor.fetchall()\n",
    "for row in results:\n",
    "    print(row)"
   ]
  },
  {
   "cell_type": "markdown",
   "id": "4d280074",
   "metadata": {},
   "source": [
    "2) Obtener el nombre de las películas que pertenecen a la categoría 'Games'"
   ]
  },
  {
   "cell_type": "code",
   "execution_count": null,
   "id": "12938680",
   "metadata": {},
   "outputs": [],
   "source": [
    "# Dentro de la variable query, escriba el código SQL correspondiente\n",
    "query2 = \"\"\"\n",
    "SELECT\n",
    "\"\"\""
   ]
  },
  {
   "cell_type": "code",
   "execution_count": null,
   "id": "e069c3fc",
   "metadata": {},
   "outputs": [],
   "source": [
    "# Ejecutar la consulta\n",
    "cursor.execute(query2)\n",
    "\n",
    "# Obtener y mostrar los resultados\n",
    "results = cursor.fetchall()\n",
    "for row in results:\n",
    "    print(row)"
   ]
  },
  {
   "cell_type": "markdown",
   "id": "24070b28",
   "metadata": {},
   "source": [
    "3.1. Cree una función Python llamada convertir_a_minusculas que tome una cadena de texto y la convierta a minúsculas.\n",
    "\n",
    "3.2. Registra esta función como una UDF en SQLite.\n",
    "\n",
    "3.3. Realiza una consulta SQL que utilice la función convertir_a_minusculas para devolver el campo \"name\" de la tabla \"category\""
   ]
  },
  {
   "cell_type": "code",
   "execution_count": null,
   "id": "b3813b62",
   "metadata": {},
   "outputs": [],
   "source": [
    "def convertir_a_minusculas(texto):\n",
    "    \n",
    "    # Escribir código\n",
    "    \n",
    "    pass"
   ]
  },
  {
   "cell_type": "code",
   "execution_count": null,
   "id": "880791a7",
   "metadata": {},
   "outputs": [],
   "source": [
    "# Registrar la función convertir_a_mayusculas como una UDF\n",
    "\n",
    "conn.create_function(\"convertir_a_minusculas\", 1, convertir_a_minusculas)"
   ]
  },
  {
   "cell_type": "code",
   "execution_count": null,
   "id": "7023277f",
   "metadata": {},
   "outputs": [],
   "source": [
    "query3 = \"\"\"\n",
    "SELECT\n",
    "\"\"\""
   ]
  },
  {
   "cell_type": "code",
   "execution_count": null,
   "id": "775fe766",
   "metadata": {},
   "outputs": [],
   "source": [
    "# Ejecutar la consulta\n",
    "cursor.execute(query3)\n",
    "\n",
    "# Obtener y mostrar los resultados\n",
    "results = cursor.fetchall()\n",
    "for row in results:\n",
    "    print(row)"
   ]
  },
  {
   "cell_type": "code",
   "execution_count": null,
   "id": "43f34a9f",
   "metadata": {},
   "outputs": [],
   "source": []
  }
 ],
 "metadata": {
  "kernelspec": {
   "display_name": "Python 3 (ipykernel)",
   "language": "python",
   "name": "python3"
  },
  "language_info": {
   "codemirror_mode": {
    "name": "ipython",
    "version": 3
   },
   "file_extension": ".py",
   "mimetype": "text/x-python",
   "name": "python",
   "nbconvert_exporter": "python",
   "pygments_lexer": "ipython3",
   "version": "3.9.13"
  }
 },
 "nbformat": 4,
 "nbformat_minor": 5
}
